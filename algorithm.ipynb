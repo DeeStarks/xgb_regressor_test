{
 "cells": [
  {
   "cell_type": "code",
   "execution_count": 2,
   "id": "fb4b20c7-eac8-40d5-9c93-591fd0191ef0",
   "metadata": {},
   "outputs": [],
   "source": [
    "import pandas as pd\n",
    "from sklearn.model_selection import train_test_split\n",
    "from sklearn.metrics import mean_absolute_error\n",
    "from sklearn.ensemble import RandomForestRegressor\n",
    "from sklearn.preprocessing import OrdinalEncoder, OneHotEncoder\n",
    "from sklearn.impute import SimpleImputer\n",
    "from xgboost import XGBRegressor"
   ]
  },
  {
   "cell_type": "code",
   "execution_count": 43,
   "id": "ccb62463-a05d-475e-88ba-1efb8ea926c3",
   "metadata": {},
   "outputs": [],
   "source": [
    "def clean_data(data, datatype=\"train\"):\n",
    "    if datatype == \"train\":\n",
    "        predictors = data.drop([\"id\", \"target\"], axis=1)\n",
    "        target = data.target\n",
    "        X_train, X_valid, y_train, y_valid = train_test_split(\n",
    "            predictors, \n",
    "            target,\n",
    "            train_size=0.8,\n",
    "            test_size=0.2,\n",
    "            random_state=0\n",
    "        )\n",
    "        # Handling missing columns with imputation\n",
    "        imputer = SimpleImputer(strategy=\"constant\")\n",
    "        imputed_X_train = pd.DataFrame(imputer.fit_transform(X_train))\n",
    "        imputed_X_valid = pd.DataFrame(imputer.transform(X_valid))\n",
    "        # Put back removed columns by imputation\n",
    "        imputed_X_train.columns = X_train.columns\n",
    "        imputed_X_valid.columns = X_valid.columns\n",
    "        \n",
    "        # Ordinal encoding categorical variables\n",
    "        cat_vars = [col for col in X_train.columns if predictors[col].dtype == \"object\"]\n",
    "        # encoder = OrdinalEncoder()\n",
    "        # imputed_X_train[cat_vars] = encoder.fit_transform(imputed_X_train[cat_vars])\n",
    "        # imputed_X_valid[cat_vars] = encoder.transform(imputed_X_valid[cat_vars])\n",
    "        \n",
    "        \n",
    "        # One-hot encoding categorical variables\n",
    "        OH_encoder = OneHotEncoder(handle_unknown='ignore', sparse=False)\n",
    "        OH_cols_train = pd.DataFrame(OH_encoder.fit_transform(imputed_X_train[cat_vars]))\n",
    "        OH_cols_valid = pd.DataFrame(OH_encoder.transform(imputed_X_valid[cat_vars]))\n",
    "        # One-hot encoding removed index; put it back\n",
    "        OH_cols_train.index = imputed_X_train.index\n",
    "        OH_cols_valid.index = imputed_X_valid.index\n",
    "\n",
    "        # Remove categorical columns (will replace with one-hot encoding)\n",
    "        num_X_train = imputed_X_train.drop(cat_vars, axis=1)\n",
    "        num_X_valid = imputed_X_valid.drop(cat_vars, axis=1)\n",
    "\n",
    "        # Add one-hot encoded columns to numerical features\n",
    "        OH_X_train = pd.concat([num_X_train, OH_cols_train], axis=1)\n",
    "        OH_X_valid = pd.concat([num_X_valid, OH_cols_valid], axis=1)\n",
    "        \n",
    "        return OH_X_train.astype(float), OH_X_valid.astype(float), y_train.astype(float), y_valid.astype(float)\n",
    "    elif datatype == \"test\":\n",
    "        # Imputation\n",
    "        imputer = SimpleImputer(strategy=\"constant\")\n",
    "        data = data.drop([\"id\"], axis=1)\n",
    "        imputed_data = pd.DataFrame(imputer.fit_transform(data))\n",
    "        imputed_data.columns = data.columns\n",
    "        # Ordinal encoding\n",
    "        cat_vars = [col for col in data.columns if data[col].dtype == \"object\"]\n",
    "        encoder = OneHotEncoder(handle_unknown='ignore', sparse=False)\n",
    "        OH_cols_test = pd.DataFrame(encoder.fit_transform(imputed_data[cat_vars]))\n",
    "        OH_cols_test.index = imputed_data.index\n",
    "        num_data = imputed_data.drop(cat_vars, axis=1)\n",
    "        OH_data = pd.concat([num_data, OH_cols_test], axis=1)\n",
    "        \n",
    "        # imputed_data[cat_vars] = encoder.fit_transform(imputed_data[cat_vars])\n",
    "        return OH_data.astype(float)"
   ]
  },
  {
   "cell_type": "code",
   "execution_count": 11,
   "id": "d5b88e2c-4dad-49ae-bb03-eea08e83b264",
   "metadata": {},
   "outputs": [],
   "source": [
    "def get_mae(X_train, X_valid, y_train, y_valid, n_estimators):\n",
    "    model = XGBRegressor(n_estimators=n_estimators, n_jobs=4)\n",
    "    model.fit(\n",
    "        X_train, \n",
    "        y_train, \n",
    "        early_stopping_rounds=5, \n",
    "        eval_set=[(X_valid, y_valid)], \n",
    "        verbose=False\n",
    "    )\n",
    "#     model = RandomForestRegressor(n_estimators=n_estimators, random_state=0)\n",
    "#     model.fit(X_train, y_train)\n",
    "    predictions = model.predict(X_valid)\n",
    "    return mean_absolute_error(y_valid, predictions)\n",
    "\n",
    "def get_best_estimator(X_train, X_valid, y_train, y_valid):\n",
    "    best_estimator = 50\n",
    "    for i in range(50, 500):\n",
    "        mae = get_mae(X_train, X_valid, y_train, y_valid, i)\n",
    "        if mae < get_mae(X_train, X_valid, y_train, y_valid, best_estimator):\n",
    "            best_estimator = i\n",
    "    return best_estimator    "
   ]
  },
  {
   "cell_type": "code",
   "execution_count": 12,
   "id": "1d27b643-7b80-4706-be70-1e4dd9b50b21",
   "metadata": {},
   "outputs": [],
   "source": [
    "class Model:\n",
    "    def __init__(self, n_estimators=50):\n",
    "        self.n_estimators = n_estimators\n",
    "        self.model = XGBRegressor(n_estimators=self.n_estimators, n_jobs=4)\n",
    "    \n",
    "    def train(self, data):\n",
    "        X_train, X_valid, y_train, y_valid = clean_data(data, datatype=\"train\")\n",
    "        self.model.fit(\n",
    "            X_train, \n",
    "            y_train, \n",
    "            early_stopping_rounds=5, \n",
    "            eval_set=[(X_valid, y_valid)], \n",
    "            verbose=False\n",
    "        )\n",
    "        predictions = self.model.predict(X_valid)\n",
    "        return f\"Model trained with MEAN ABSOLUTE ERROR: {get_mae(X_train, X_valid, y_train, y_valid, self.n_estimators)}\"\n",
    "              \n",
    "    def save_prediction(self, data):\n",
    "        cleaned_data = clean_data(data, datatype=\"test\")\n",
    "        predictions = self.model.predict(cleaned_data)\n",
    "        # Save test predictions to file\n",
    "        output = pd.DataFrame({\n",
    "            'id': data.id.astype(int),\n",
    "            'target': predictions\n",
    "        })\n",
    "        output.to_csv('submission.csv', index=False)\n",
    "        return f\"Predictions saved to 'submission.csv'\""
   ]
  },
  {
   "cell_type": "code",
   "execution_count": 6,
   "id": "2f2400b8-8cb4-4301-b39d-cbd7fae9944b",
   "metadata": {},
   "outputs": [],
   "source": [
    "# best_estimator = get_best_estimator(X_train, X_valid, y_train, y_valid)"
   ]
  },
  {
   "cell_type": "code",
   "execution_count": 7,
   "id": "bef694d4-0229-44ac-93af-9b720b8ab59f",
   "metadata": {},
   "outputs": [],
   "source": [
    "# model = Model(n_estimators=best_estimator)\n",
    "model = Model(n_estimators=100)"
   ]
  },
  {
   "cell_type": "code",
   "execution_count": 35,
   "id": "3955b23c-73f7-4636-be98-2940270bb2ea",
   "metadata": {},
   "outputs": [
    {
     "data": {
      "text/plain": [
       "'Model trained with MEAN ABSOLUTE ERROR: 0.5768163908385996'"
      ]
     },
     "execution_count": 35,
     "metadata": {},
     "output_type": "execute_result"
    }
   ],
   "source": [
    "train_data = pd.read_csv(\"train.csv\")\n",
    "model.train(train_data)"
   ]
  },
  {
   "cell_type": "code",
   "execution_count": 44,
   "id": "a643e6da-4bce-4907-8260-220b34f98cc7",
   "metadata": {},
   "outputs": [
    {
     "data": {
      "text/plain": [
       "\"Predictions saved to 'submission.csv'\""
      ]
     },
     "execution_count": 44,
     "metadata": {},
     "output_type": "execute_result"
    }
   ],
   "source": [
    "test_data = pd.read_csv(\"test.csv\")\n",
    "model.save_prediction(test_data)"
   ]
  },
  {
   "cell_type": "code",
   "execution_count": 34,
   "id": "d0e6547a-a7e3-414a-b264-3fdf60408ab0",
   "metadata": {},
   "outputs": [
    {
     "data": {
      "text/plain": [
       "0.5768163908385996"
      ]
     },
     "execution_count": 34,
     "metadata": {},
     "output_type": "execute_result"
    }
   ],
   "source": [
    "train_data = pd.read_csv(\"train.csv\")\n",
    "X_train, X_valid, y_train, y_valid = clean_data(train_data, datatype=\"train\")\n",
    "get_mae(X_train, X_valid, y_train, y_valid, 200)"
   ]
  },
  {
   "cell_type": "code",
   "execution_count": 36,
   "id": "06fb848b-f120-42c6-a45f-fdd12353cf0e",
   "metadata": {},
   "outputs": [
    {
     "data": {
      "text/plain": [
       "(240000,)"
      ]
     },
     "execution_count": 36,
     "metadata": {},
     "output_type": "execute_result"
    }
   ],
   "source": [
    "X_train.cont1.shape"
   ]
  },
  {
   "cell_type": "code",
   "execution_count": 37,
   "id": "d90887f4-2fe2-4dcf-95a9-9529ee69aad9",
   "metadata": {},
   "outputs": [
    {
     "data": {
      "text/plain": [
       "(240000, 70)"
      ]
     },
     "execution_count": 37,
     "metadata": {},
     "output_type": "execute_result"
    }
   ],
   "source": [
    "X_train.shape"
   ]
  },
  {
   "cell_type": "code",
   "execution_count": 30,
   "id": "8072ab94-2b52-4f2a-844d-358a0b549d8b",
   "metadata": {},
   "outputs": [
    {
     "data": {
      "text/html": [
       "<div>\n",
       "<style scoped>\n",
       "    .dataframe tbody tr th:only-of-type {\n",
       "        vertical-align: middle;\n",
       "    }\n",
       "\n",
       "    .dataframe tbody tr th {\n",
       "        vertical-align: top;\n",
       "    }\n",
       "\n",
       "    .dataframe thead th {\n",
       "        text-align: right;\n",
       "    }\n",
       "</style>\n",
       "<table border=\"1\" class=\"dataframe\">\n",
       "  <thead>\n",
       "    <tr style=\"text-align: right;\">\n",
       "      <th></th>\n",
       "      <th>cat0</th>\n",
       "      <th>cat1</th>\n",
       "      <th>cat2</th>\n",
       "      <th>cat3</th>\n",
       "      <th>cat4</th>\n",
       "      <th>cat5</th>\n",
       "      <th>cat6</th>\n",
       "      <th>cat7</th>\n",
       "      <th>cat8</th>\n",
       "      <th>cat9</th>\n",
       "      <th>...</th>\n",
       "      <th>cont4</th>\n",
       "      <th>cont5</th>\n",
       "      <th>cont6</th>\n",
       "      <th>cont7</th>\n",
       "      <th>cont8</th>\n",
       "      <th>cont9</th>\n",
       "      <th>cont10</th>\n",
       "      <th>cont11</th>\n",
       "      <th>cont12</th>\n",
       "      <th>cont13</th>\n",
       "    </tr>\n",
       "  </thead>\n",
       "  <tbody>\n",
       "    <tr>\n",
       "      <th>0</th>\n",
       "      <td>0.0</td>\n",
       "      <td>1.0</td>\n",
       "      <td>0.0</td>\n",
       "      <td>2.0</td>\n",
       "      <td>1.0</td>\n",
       "      <td>1.0</td>\n",
       "      <td>0.0</td>\n",
       "      <td>4.0</td>\n",
       "      <td>4.0</td>\n",
       "      <td>8.0</td>\n",
       "      <td>...</td>\n",
       "      <td>0.277709</td>\n",
       "      <td>0.398071</td>\n",
       "      <td>0.487289</td>\n",
       "      <td>0.869034</td>\n",
       "      <td>0.439229</td>\n",
       "      <td>0.352714</td>\n",
       "      <td>0.228661</td>\n",
       "      <td>0.363903</td>\n",
       "      <td>0.331813</td>\n",
       "      <td>0.474680</td>\n",
       "    </tr>\n",
       "    <tr>\n",
       "      <th>1</th>\n",
       "      <td>0.0</td>\n",
       "      <td>1.0</td>\n",
       "      <td>0.0</td>\n",
       "      <td>2.0</td>\n",
       "      <td>1.0</td>\n",
       "      <td>1.0</td>\n",
       "      <td>0.0</td>\n",
       "      <td>4.0</td>\n",
       "      <td>2.0</td>\n",
       "      <td>5.0</td>\n",
       "      <td>...</td>\n",
       "      <td>0.281611</td>\n",
       "      <td>0.388998</td>\n",
       "      <td>0.176158</td>\n",
       "      <td>1.000809</td>\n",
       "      <td>0.271510</td>\n",
       "      <td>0.440423</td>\n",
       "      <td>0.311323</td>\n",
       "      <td>0.164655</td>\n",
       "      <td>0.279045</td>\n",
       "      <td>0.452538</td>\n",
       "    </tr>\n",
       "    <tr>\n",
       "      <th>2</th>\n",
       "      <td>1.0</td>\n",
       "      <td>1.0</td>\n",
       "      <td>0.0</td>\n",
       "      <td>0.0</td>\n",
       "      <td>1.0</td>\n",
       "      <td>2.0</td>\n",
       "      <td>0.0</td>\n",
       "      <td>4.0</td>\n",
       "      <td>4.0</td>\n",
       "      <td>14.0</td>\n",
       "      <td>...</td>\n",
       "      <td>0.278146</td>\n",
       "      <td>0.403402</td>\n",
       "      <td>0.502907</td>\n",
       "      <td>0.324734</td>\n",
       "      <td>0.511943</td>\n",
       "      <td>0.328226</td>\n",
       "      <td>0.543738</td>\n",
       "      <td>0.332158</td>\n",
       "      <td>0.311990</td>\n",
       "      <td>0.463616</td>\n",
       "    </tr>\n",
       "    <tr>\n",
       "      <th>3</th>\n",
       "      <td>0.0</td>\n",
       "      <td>0.0</td>\n",
       "      <td>0.0</td>\n",
       "      <td>0.0</td>\n",
       "      <td>1.0</td>\n",
       "      <td>2.0</td>\n",
       "      <td>0.0</td>\n",
       "      <td>4.0</td>\n",
       "      <td>6.0</td>\n",
       "      <td>5.0</td>\n",
       "      <td>...</td>\n",
       "      <td>0.686815</td>\n",
       "      <td>0.821791</td>\n",
       "      <td>0.538206</td>\n",
       "      <td>0.631913</td>\n",
       "      <td>0.405548</td>\n",
       "      <td>0.753464</td>\n",
       "      <td>0.903191</td>\n",
       "      <td>0.911150</td>\n",
       "      <td>0.611461</td>\n",
       "      <td>0.477071</td>\n",
       "    </tr>\n",
       "    <tr>\n",
       "      <th>4</th>\n",
       "      <td>0.0</td>\n",
       "      <td>0.0</td>\n",
       "      <td>0.0</td>\n",
       "      <td>2.0</td>\n",
       "      <td>1.0</td>\n",
       "      <td>3.0</td>\n",
       "      <td>0.0</td>\n",
       "      <td>3.0</td>\n",
       "      <td>2.0</td>\n",
       "      <td>6.0</td>\n",
       "      <td>...</td>\n",
       "      <td>0.257302</td>\n",
       "      <td>0.748708</td>\n",
       "      <td>0.520747</td>\n",
       "      <td>0.828223</td>\n",
       "      <td>0.996511</td>\n",
       "      <td>0.926008</td>\n",
       "      <td>0.693743</td>\n",
       "      <td>0.782965</td>\n",
       "      <td>0.819652</td>\n",
       "      <td>0.772523</td>\n",
       "    </tr>\n",
       "  </tbody>\n",
       "</table>\n",
       "<p>5 rows × 24 columns</p>\n",
       "</div>"
      ],
      "text/plain": [
       "   cat0  cat1  cat2  cat3  cat4  cat5  cat6  cat7  cat8  cat9  ...     cont4  \\\n",
       "0   0.0   1.0   0.0   2.0   1.0   1.0   0.0   4.0   4.0   8.0  ...  0.277709   \n",
       "1   0.0   1.0   0.0   2.0   1.0   1.0   0.0   4.0   2.0   5.0  ...  0.281611   \n",
       "2   1.0   1.0   0.0   0.0   1.0   2.0   0.0   4.0   4.0  14.0  ...  0.278146   \n",
       "3   0.0   0.0   0.0   0.0   1.0   2.0   0.0   4.0   6.0   5.0  ...  0.686815   \n",
       "4   0.0   0.0   0.0   2.0   1.0   3.0   0.0   3.0   2.0   6.0  ...  0.257302   \n",
       "\n",
       "      cont5     cont6     cont7     cont8     cont9    cont10    cont11  \\\n",
       "0  0.398071  0.487289  0.869034  0.439229  0.352714  0.228661  0.363903   \n",
       "1  0.388998  0.176158  1.000809  0.271510  0.440423  0.311323  0.164655   \n",
       "2  0.403402  0.502907  0.324734  0.511943  0.328226  0.543738  0.332158   \n",
       "3  0.821791  0.538206  0.631913  0.405548  0.753464  0.903191  0.911150   \n",
       "4  0.748708  0.520747  0.828223  0.996511  0.926008  0.693743  0.782965   \n",
       "\n",
       "     cont12    cont13  \n",
       "0  0.331813  0.474680  \n",
       "1  0.279045  0.452538  \n",
       "2  0.311990  0.463616  \n",
       "3  0.611461  0.477071  \n",
       "4  0.819652  0.772523  \n",
       "\n",
       "[5 rows x 24 columns]"
      ]
     },
     "execution_count": 30,
     "metadata": {},
     "output_type": "execute_result"
    }
   ],
   "source": [
    "X_train.head()"
   ]
  },
  {
   "cell_type": "code",
   "execution_count": null,
   "id": "ede4e65b-9cc9-4857-b229-730c3091980f",
   "metadata": {},
   "outputs": [],
   "source": []
  }
 ],
 "metadata": {
  "kernelspec": {
   "display_name": "Python 3",
   "language": "python",
   "name": "python3"
  },
  "language_info": {
   "codemirror_mode": {
    "name": "ipython",
    "version": 3
   },
   "file_extension": ".py",
   "mimetype": "text/x-python",
   "name": "python",
   "nbconvert_exporter": "python",
   "pygments_lexer": "ipython3",
   "version": "3.8.8"
  }
 },
 "nbformat": 4,
 "nbformat_minor": 5
}
