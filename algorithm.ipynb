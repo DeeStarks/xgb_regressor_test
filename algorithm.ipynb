{
 "cells": [
  {
   "cell_type": "code",
   "execution_count": 123,
   "id": "fb4b20c7-eac8-40d5-9c93-591fd0191ef0",
   "metadata": {},
   "outputs": [],
   "source": [
    "import pandas as pd\n",
    "from sklearn.model_selection import train_test_split\n",
    "from sklearn.metrics import mean_absolute_error\n",
    "from sklearn.ensemble import RandomForestRegressor\n",
    "from sklearn.preprocessing import OrdinalEncoder\n",
    "from sklearn.impute import SimpleImputer\n",
    "from xgboost import XGBRegressor"
   ]
  },
  {
   "cell_type": "code",
   "execution_count": 167,
   "id": "ccb62463-a05d-475e-88ba-1efb8ea926c3",
   "metadata": {},
   "outputs": [],
   "source": [
    "def clean_data(data, datatype=\"train\"):\n",
    "    if datatype == \"train\":\n",
    "        predictors = data.drop([\"target\"], axis=1)\n",
    "        target = data.target\n",
    "        X_train, X_valid, y_train, y_valid = train_test_split(\n",
    "            predictors, \n",
    "            target,\n",
    "            train_size=0.8,\n",
    "            test_size=0.2,\n",
    "            random_state=0\n",
    "        )\n",
    "        # Handling missing columns with imputation\n",
    "        imputer = SimpleImputer(strategy=\"most_frequent\")\n",
    "        imputed_X_train = pd.DataFrame(imputer.fit_transform(X_train))\n",
    "        imputed_X_valid = pd.DataFrame(imputer.transform(X_valid))\n",
    "        # Put back removed columns by imputation\n",
    "        imputed_X_train.columns = X_train.columns\n",
    "        imputed_X_valid.columns = X_valid.columns\n",
    "        # Ordinal encoding categorical variables\n",
    "        cat_vars = [col for col in X_train.columns if predictors[col].dtype == \"object\"]\n",
    "        encoder = OrdinalEncoder()\n",
    "        imputed_X_train[cat_vars] = encoder.fit_transform(imputed_X_train[cat_vars])\n",
    "        imputed_X_valid[cat_vars] = encoder.transform(imputed_X_valid[cat_vars])\n",
    "        return imputed_X_train.astype(float), imputed_X_valid.astype(float), y_train.astype(float), y_valid.astype(float)\n",
    "    elif datatype == \"test\":\n",
    "        # Imputation\n",
    "        imputer = SimpleImputer(strategy=\"most_frequent\")\n",
    "        imputed_data = pd.DataFrame(imputer.fit_transform(data))\n",
    "        imputed_data.columns = data.columns\n",
    "        # Ordinal encoding\n",
    "        cat_vars = [col for col in data.columns if data[col].dtype == \"object\"]\n",
    "        encoder = OrdinalEncoder()\n",
    "        imputed_data[cat_vars] = encoder.fit_transform(imputed_data[cat_vars])\n",
    "        return imputed_data.astype(float)"
   ]
  },
  {
   "cell_type": "code",
   "execution_count": 168,
   "id": "d5b88e2c-4dad-49ae-bb03-eea08e83b264",
   "metadata": {},
   "outputs": [],
   "source": [
    "def get_mae(X_train, X_valid, y_train, y_valid, n_estimators):\n",
    "    model = XGBRegressor(n_estimators=n_estimators, n_jobs=4)\n",
    "    model.fit(\n",
    "        X_train, \n",
    "        y_train, \n",
    "        early_stopping_rounds=5, \n",
    "        eval_set=[(X_valid, y_valid)], \n",
    "        verbose=False\n",
    "    )\n",
    "#     model = RandomForestRegressor(n_estimators=n_estimators, random_state=0)\n",
    "#     model.fit(X_train, y_train)\n",
    "    predictions = model.predict(X_valid)\n",
    "    return mean_absolute_error(y_valid, predictions)\n",
    "\n",
    "def get_best_estimator(X_train, X_valid, y_train, y_valid):\n",
    "    best_estimator = 50\n",
    "    for i in range(50, 500):\n",
    "        mae = get_mae(X_train, X_valid, y_train, y_valid, i)\n",
    "        if mae < get_mae(X_train, X_valid, y_train, y_valid, best_estimator):\n",
    "            best_estimator = i\n",
    "    return best_estimator    "
   ]
  },
  {
   "cell_type": "code",
   "execution_count": 181,
   "id": "1d27b643-7b80-4706-be70-1e4dd9b50b21",
   "metadata": {},
   "outputs": [],
   "source": [
    "class Model:\n",
    "    def __init__(self, n_estimators=50):\n",
    "        self.n_estimators = n_estimators\n",
    "        self.model = XGBRegressor(n_estimators=self.n_estimators, n_jobs=4)\n",
    "    \n",
    "    def train(self, data):\n",
    "        X_train, X_valid, y_train, y_valid = clean_data(data, datatype=\"train\")\n",
    "        self.model.fit(\n",
    "            X_train, \n",
    "            y_train, \n",
    "            early_stopping_rounds=5, \n",
    "            eval_set=[(X_valid, y_valid)], \n",
    "            verbose=False\n",
    "        )\n",
    "        predictions = self.model.predict(X_valid)\n",
    "        return f\"Model trained with MEAN ABSOLUTE ERROR: {get_mae(X_train, X_valid, y_train, y_valid, self.n_estimators)}\"\n",
    "              \n",
    "    def save_prediction(self, data):\n",
    "        cleaned_data = clean_data(data, datatype=\"test\")\n",
    "        predictions = self.model.predict(cleaned_data)\n",
    "        # Save test predictions to file\n",
    "        output = pd.DataFrame({\n",
    "            'id': cleaned_data.id.astype(int),\n",
    "            'target': predictions\n",
    "        })\n",
    "        output.to_csv('submission.csv', index=False)\n",
    "        return f\"Predictions saved to 'submission.csv'\""
   ]
  },
  {
   "cell_type": "code",
   "execution_count": 182,
   "id": "2f2400b8-8cb4-4301-b39d-cbd7fae9944b",
   "metadata": {},
   "outputs": [],
   "source": [
    "# best_estimator = get_best_estimator(X_train, X_valid, y_train, y_valid)"
   ]
  },
  {
   "cell_type": "code",
   "execution_count": 183,
   "id": "bef694d4-0229-44ac-93af-9b720b8ab59f",
   "metadata": {},
   "outputs": [],
   "source": [
    "# model = Model(n_estimators=best_estimator)\n",
    "model = Model(n_estimators=100)"
   ]
  },
  {
   "cell_type": "code",
   "execution_count": 184,
   "id": "3955b23c-73f7-4636-be98-2940270bb2ea",
   "metadata": {},
   "outputs": [
    {
     "data": {
      "text/plain": [
       "'Model trained with MEAN ABSOLUTE ERROR: 0.5769100038861545'"
      ]
     },
     "execution_count": 184,
     "metadata": {},
     "output_type": "execute_result"
    }
   ],
   "source": [
    "train_data = pd.read_csv(\"train.csv\")\n",
    "model.train(train_data)"
   ]
  },
  {
   "cell_type": "code",
   "execution_count": 185,
   "id": "a643e6da-4bce-4907-8260-220b34f98cc7",
   "metadata": {},
   "outputs": [
    {
     "data": {
      "text/plain": [
       "\"Predictions saved to 'submission.csv'\""
      ]
     },
     "execution_count": 185,
     "metadata": {},
     "output_type": "execute_result"
    }
   ],
   "source": [
    "test_data = pd.read_csv(\"test.csv\")\n",
    "model.save_prediction(test_data)"
   ]
  },
  {
   "cell_type": "code",
   "execution_count": null,
   "id": "d0e6547a-a7e3-414a-b264-3fdf60408ab0",
   "metadata": {},
   "outputs": [],
   "source": []
  }
 ],
 "metadata": {
  "kernelspec": {
   "display_name": "Python 3",
   "language": "python",
   "name": "python3"
  },
  "language_info": {
   "codemirror_mode": {
    "name": "ipython",
    "version": 3
   },
   "file_extension": ".py",
   "mimetype": "text/x-python",
   "name": "python",
   "nbconvert_exporter": "python",
   "pygments_lexer": "ipython3",
   "version": "3.8.8"
  }
 },
 "nbformat": 4,
 "nbformat_minor": 5
}
